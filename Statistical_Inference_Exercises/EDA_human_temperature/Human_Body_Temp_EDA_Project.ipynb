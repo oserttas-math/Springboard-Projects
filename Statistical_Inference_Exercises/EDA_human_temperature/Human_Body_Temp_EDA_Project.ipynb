{
 "cells": [
  {
   "cell_type": "markdown",
   "metadata": {},
   "source": [
    "# What is the True Normal Human Body Temperature? \n",
    "\n",
    "#### Background\n",
    "\n",
    "The mean normal body temperature was held to be 37$^{\\circ}$C or 98.6$^{\\circ}$F for more than 120 years since it was first conceptualized and reported by Carl Wunderlich in a famous 1868 book. But, is this value statistically correct?"
   ]
  },
  {
   "cell_type": "markdown",
   "metadata": {},
   "source": [
    "\n",
    "<h3>Exercises</h3>\n",
    "\n",
    "<p>In this exercise, you will analyze a dataset of human body temperatures and employ the concepts of hypothesis testing, confidence intervals, and statistical significance.</p>\n",
    "\n",
    "<p>Answer the following questions <b>in this notebook below and submit to your Github account</b>.</p> \n",
    "\n",
    "<ol>\n",
    "<li>  Is the distribution of body temperatures normal? \n",
    "    <ul>\n",
    "    <li> Although this is not a requirement for the Central Limit Theorem to hold (read the introduction on Wikipedia's page about the CLT carefully: https://en.wikipedia.org/wiki/Central_limit_theorem), it gives us some peace of mind that the population may also be normally distributed if we assume that this sample is representative of the population.\n",
    "    <li> Think about the way you're going to check for the normality of the distribution. Graphical methods are usually used first, but there are also other ways: https://en.wikipedia.org/wiki/Normality_test\n",
    "    </ul>\n",
    "<li>  Is the sample size large? Are the observations independent?\n",
    "    <ul>\n",
    "    <li> Remember that this is a condition for the Central Limit Theorem, and hence the statistical tests we are using, to apply.\n",
    "    </ul>\n",
    "<li>  Is the true population mean really 98.6 degrees F?\n",
    "    <ul>\n",
    "    <li> First, try a bootstrap hypothesis test.\n",
    "    <li> Now, let's try frequentist statistical testing. Would you use a one-sample or two-sample test? Why?\n",
    "    <li> In this situation, is it appropriate to use the $t$ or $z$ statistic? \n",
    "    <li> Now try using the other test. How is the result be different? Why?\n",
    "    </ul>\n",
    "<li>  Draw a small sample of size 10 from the data and repeat both frequentist tests. \n",
    "    <ul>\n",
    "    <li> Which one is the correct one to use? \n",
    "    <li> What do you notice? What does this tell you about the difference in application of the $t$ and $z$ statistic?\n",
    "    </ul>\n",
    "<li>  At what temperature should we consider someone's temperature to be \"abnormal\"?\n",
    "    <ul>\n",
    "    <li> As in the previous example, try calculating everything using the boostrap approach, as well as the frequentist approach.\n",
    "    <li> Start by computing the margin of error and confidence interval. When calculating the confidence interval, keep in mind that you should use the appropriate formula for one draw, and not N draws.\n",
    "    </ul>\n",
    "<li>  Is there a significant difference between males and females in normal temperature?\n",
    "    <ul>\n",
    "    <li> What testing approach did you use and why?\n",
    "    <li> Write a story with your conclusion in the context of the original problem.\n",
    "    </ul>\n",
    "\n",
    "</ol>\n",
    "\n",
    "You can include written notes in notebook cells using Markdown: \n",
    "   - In the control panel at the top, choose Cell > Cell Type > Markdown\n",
    "   - Markdown syntax: http://nestacms.com/docs/creating-content/markdown-cheat-sheet\n",
    "\n",
    "#### Resources\n",
    "\n",
    "+ Information and data sources: http://www.amstat.org/publications/jse/datasets/normtemp.txt, http://www.amstat.org/publications/jse/jse_data_archive.htm\n",
    "+ Markdown syntax: http://nestacms.com/docs/creating-content/markdown-cheat-sheet\n",
    "\n",
    "****\n",
    "\n"
   ]
  },
  {
   "cell_type": "code",
   "execution_count": 1,
   "metadata": {},
   "outputs": [],
   "source": [
    "import pandas as pd\n",
    "import matplotlib.pyplot as plt\n",
    "import numpy as np\n",
    "import scipy.stats as stats\n",
    "%matplotlib inline\n",
    "df = pd.read_csv('human_body_temperature.csv')"
   ]
  },
  {
   "cell_type": "code",
   "execution_count": 2,
   "metadata": {},
   "outputs": [
    {
     "name": "stdout",
     "output_type": "stream",
     "text": [
      "<class 'pandas.core.frame.DataFrame'>\n",
      "RangeIndex: 130 entries, 0 to 129\n",
      "Data columns (total 3 columns):\n",
      "temperature    130 non-null float64\n",
      "gender         130 non-null object\n",
      "heart_rate     130 non-null float64\n",
      "dtypes: float64(2), object(1)\n",
      "memory usage: 3.1+ KB\n"
     ]
    }
   ],
   "source": [
    "df.info()"
   ]
  },
  {
   "cell_type": "code",
   "execution_count": 3,
   "metadata": {},
   "outputs": [
    {
     "data": {
      "text/html": [
       "<div>\n",
       "<style scoped>\n",
       "    .dataframe tbody tr th:only-of-type {\n",
       "        vertical-align: middle;\n",
       "    }\n",
       "\n",
       "    .dataframe tbody tr th {\n",
       "        vertical-align: top;\n",
       "    }\n",
       "\n",
       "    .dataframe thead th {\n",
       "        text-align: right;\n",
       "    }\n",
       "</style>\n",
       "<table border=\"1\" class=\"dataframe\">\n",
       "  <thead>\n",
       "    <tr style=\"text-align: right;\">\n",
       "      <th></th>\n",
       "      <th>temperature</th>\n",
       "      <th>heart_rate</th>\n",
       "    </tr>\n",
       "  </thead>\n",
       "  <tbody>\n",
       "    <tr>\n",
       "      <th>count</th>\n",
       "      <td>130.000000</td>\n",
       "      <td>130.000000</td>\n",
       "    </tr>\n",
       "    <tr>\n",
       "      <th>mean</th>\n",
       "      <td>98.249231</td>\n",
       "      <td>73.761538</td>\n",
       "    </tr>\n",
       "    <tr>\n",
       "      <th>std</th>\n",
       "      <td>0.733183</td>\n",
       "      <td>7.062077</td>\n",
       "    </tr>\n",
       "    <tr>\n",
       "      <th>min</th>\n",
       "      <td>96.300000</td>\n",
       "      <td>57.000000</td>\n",
       "    </tr>\n",
       "    <tr>\n",
       "      <th>25%</th>\n",
       "      <td>97.800000</td>\n",
       "      <td>69.000000</td>\n",
       "    </tr>\n",
       "    <tr>\n",
       "      <th>50%</th>\n",
       "      <td>98.300000</td>\n",
       "      <td>74.000000</td>\n",
       "    </tr>\n",
       "    <tr>\n",
       "      <th>75%</th>\n",
       "      <td>98.700000</td>\n",
       "      <td>79.000000</td>\n",
       "    </tr>\n",
       "    <tr>\n",
       "      <th>max</th>\n",
       "      <td>100.800000</td>\n",
       "      <td>89.000000</td>\n",
       "    </tr>\n",
       "  </tbody>\n",
       "</table>\n",
       "</div>"
      ],
      "text/plain": [
       "       temperature  heart_rate\n",
       "count   130.000000  130.000000\n",
       "mean     98.249231   73.761538\n",
       "std       0.733183    7.062077\n",
       "min      96.300000   57.000000\n",
       "25%      97.800000   69.000000\n",
       "50%      98.300000   74.000000\n",
       "75%      98.700000   79.000000\n",
       "max     100.800000   89.000000"
      ]
     },
     "execution_count": 3,
     "metadata": {},
     "output_type": "execute_result"
    }
   ],
   "source": [
    "df.describe()"
   ]
  },
  {
   "cell_type": "code",
   "execution_count": 4,
   "metadata": {},
   "outputs": [
    {
     "data": {
      "text/html": [
       "<div>\n",
       "<style scoped>\n",
       "    .dataframe tbody tr th:only-of-type {\n",
       "        vertical-align: middle;\n",
       "    }\n",
       "\n",
       "    .dataframe tbody tr th {\n",
       "        vertical-align: top;\n",
       "    }\n",
       "\n",
       "    .dataframe thead th {\n",
       "        text-align: right;\n",
       "    }\n",
       "</style>\n",
       "<table border=\"1\" class=\"dataframe\">\n",
       "  <thead>\n",
       "    <tr style=\"text-align: right;\">\n",
       "      <th></th>\n",
       "      <th>temperature</th>\n",
       "      <th>gender</th>\n",
       "      <th>heart_rate</th>\n",
       "    </tr>\n",
       "  </thead>\n",
       "  <tbody>\n",
       "    <tr>\n",
       "      <th>0</th>\n",
       "      <td>99.3</td>\n",
       "      <td>F</td>\n",
       "      <td>68.0</td>\n",
       "    </tr>\n",
       "    <tr>\n",
       "      <th>1</th>\n",
       "      <td>98.4</td>\n",
       "      <td>F</td>\n",
       "      <td>81.0</td>\n",
       "    </tr>\n",
       "    <tr>\n",
       "      <th>2</th>\n",
       "      <td>97.8</td>\n",
       "      <td>M</td>\n",
       "      <td>73.0</td>\n",
       "    </tr>\n",
       "    <tr>\n",
       "      <th>3</th>\n",
       "      <td>99.2</td>\n",
       "      <td>F</td>\n",
       "      <td>66.0</td>\n",
       "    </tr>\n",
       "    <tr>\n",
       "      <th>4</th>\n",
       "      <td>98.0</td>\n",
       "      <td>F</td>\n",
       "      <td>73.0</td>\n",
       "    </tr>\n",
       "  </tbody>\n",
       "</table>\n",
       "</div>"
      ],
      "text/plain": [
       "   temperature gender  heart_rate\n",
       "0         99.3      F        68.0\n",
       "1         98.4      F        81.0\n",
       "2         97.8      M        73.0\n",
       "3         99.2      F        66.0\n",
       "4         98.0      F        73.0"
      ]
     },
     "execution_count": 4,
     "metadata": {},
     "output_type": "execute_result"
    }
   ],
   "source": [
    "df.head()"
   ]
  },
  {
   "cell_type": "code",
   "execution_count": 5,
   "metadata": {},
   "outputs": [
    {
     "data": {
      "text/plain": [
       "temperature    0\n",
       "gender         0\n",
       "heart_rate     0\n",
       "dtype: int64"
      ]
     },
     "execution_count": 5,
     "metadata": {},
     "output_type": "execute_result"
    }
   ],
   "source": [
    "# Check if there are missing values in the data\n",
    "df.isnull().sum()"
   ]
  },
  {
   "cell_type": "markdown",
   "metadata": {
    "collapsed": true
   },
   "source": [
    "<div class=\"span5 alert alert-info\">\n",
    "**1- Is the distribution of body temperatures normal?**\n",
    "</div>"
   ]
  },
  {
   "cell_type": "markdown",
   "metadata": {},
   "source": [
    "**Let's start with graphical tests**\n"
   ]
  },
  {
   "cell_type": "code",
   "execution_count": 6,
   "metadata": {},
   "outputs": [
    {
     "name": "stdout",
     "output_type": "stream",
     "text": [
      "Mean body temp is 98.24923076923078\n"
     ]
    },
    {
     "data": {
      "image/png": "[encoded data removed]",
      "text/plain": [
       "<Figure size 432x288 with 1 Axes>"
      ]
     },
     "metadata": {},
     "output_type": "display_data"
    }
   ],
   "source": [
    "# Simple Histogram of the Temp\n",
    "df.temperature.plot(kind='hist')\n",
    "\n",
    "# Draw a verticle line for the mean of our sample\n",
    "plt.axvline(df.temperature.mean(), c = 'red')\n",
    "print('Mean body temp is {}'.format(df.temperature.mean()))\n",
    "\n",
    "# Label axes and add title:\n",
    "plt.xlabel('Temperature ($^\\circ$F)', fontsize=14)\n",
    "plt.ylabel('Frequecny', fontsize=14)\n",
    "plt.title('Distribution of Body Temperatures', fontsize=18)\n",
    "\n",
    "# Display the plot\n",
    "plt.show()"
   ]
  },
  {
   "cell_type": "code",
   "execution_count": 7,
   "metadata": {},
   "outputs": [
    {
     "data": {
      "image/png": "[encoded data removed]",
      "text/plain": [
       "<Figure size 432x288 with 1 Axes>"
      ]
     },
     "metadata": {},
     "output_type": "display_data"
    }
   ],
   "source": [
    "def q_q_check(entries):\n",
    "    \"\"\" Description of q_q_check\n",
    "        This function employs the Q-Q plot which provides a graphical comparison of\n",
    "        two probability distributions by plotting their quantiles.\n",
    "    \"\"\"\n",
    "    \n",
    "    import numpy as np\n",
    "    import numpy.random as random\n",
    "    \n",
    "    data = entries.sort_values().values\n",
    "    mean_data = np.mean(data)\n",
    "    std_data = np.std(data)\n",
    "    \n",
    "    # simulate randomly distributed numbers around the same statistics\n",
    "    norm = random.normal(loc=mean_data, scale=std_data, size=len(data))\n",
    "    norm.sort()\n",
    "    \n",
    "    \n",
    "    # plot norm vs data\n",
    "#     plt.plot(norm, 'g-', label='norm' )\n",
    "#     plt.plot(data, 'b.',label='sample', linestyle='none')\n",
    "#     plt.legend()\n",
    "#     plt.margins(0.02)\n",
    "#     plt.show()\n",
    "\n",
    "    #plt.figure(figsize=(8,6),facecolor='1.0') \n",
    "\n",
    "    plt.plot(norm,data,\"o\")\n",
    "\n",
    "\n",
    "    # Least squares polynomial fit using data points\n",
    "    # Fit a polynomial of degree for given points\n",
    "    z = np.polyfit(x=norm,y=data, deg= 1)\n",
    "    \n",
    "    p = np.poly1d(z)\n",
    "    plt.plot(norm, p(norm),\"k--\", linewidth=2)\n",
    "    plt.title(\"Normal Q-Q plot\", size=18)\n",
    "    plt.xlabel(\"Normal Theoretical quantiles\", size=14)\n",
    "    plt.ylabel(\"Expreimental quantiles\", size=14)\n",
    "    #plt.tick_params(labelsize=16)\n",
    "    plt.show()\n",
    "    \n",
    "    \n",
    "    \n",
    "q_q_check(df.temperature)"
   ]
  },
  {
   "cell_type": "markdown",
   "metadata": {},
   "source": [
    "**Let's look at Statistical Test**"
   ]
  },
  {
   "cell_type": "markdown",
   "metadata": {},
   "source": [
    "p - score interpretation:\n",
    "A result above 5% does not mean that the null hypothesis is true. It means that it is very likely true given available evidence"
   ]
  },
  {
   "cell_type": "code",
   "execution_count": 8,
   "metadata": {},
   "outputs": [
    {
     "name": "stdout",
     "output_type": "stream",
     "text": [
      "Shapiro Statistic: 0.9865770936012268 \n",
      "P_Value: 0.233174666762352 \n",
      "\n",
      "Keep H0 hypothesis, Sample Looks Gaussian\n"
     ]
    }
   ],
   "source": [
    "# The Shapiro-Wilk test\n",
    "\n",
    "def s_w_test(data):\n",
    "    \"\"\" Description of s_w_test\n",
    "        The Shapiro-Wilk test tests the null hypothesis that the data was drawn \n",
    "        from a normal distribution\n",
    "        if test_stat and p_value close to 1 then data is normal\n",
    "    \"\"\"\n",
    "    import numpy as np\n",
    "    from numpy.random import randn\n",
    "    from scipy.stats import shapiro\n",
    "\n",
    "    \n",
    "    # seed the random number generator\n",
    "    np.random.seed(0)\n",
    "    \n",
    "    statistic, p_value = shapiro(data)\n",
    "    print('Shapiro Statistic: ' + str(statistic) ,'\\n'\n",
    "         'P_Value: ' + str(p_value), '\\n')\n",
    "    if p_value > 0.05:\n",
    "        print('Keep H0 hypothesis, Sample Looks Gaussian')\n",
    "        \n",
    "    else:\n",
    "        print('H0 is rejected, Sample is not Gaussian')\n",
    "\n",
    "s_w_test(df.temperature)"
   ]
  },
  {
   "cell_type": "code",
   "execution_count": 9,
   "metadata": {},
   "outputs": [
    {
     "name": "stdout",
     "output_type": "stream",
     "text": [
      "Statistic=0.102, p_value=0.950 \n",
      "\n",
      "Keep H0 hypothesis, Sample Looks Gaussian\n"
     ]
    }
   ],
   "source": [
    "# D'Agostino and Pearson's Test\n",
    "\n",
    "def d_p_test(data): \n",
    "    \"\"\" Description of d_p_test\n",
    "        The D'Agostino and Pearson (D'Agostino's K**2) test tests the null hypothesis that the data was drawn \n",
    "        from a normal distribution\n",
    "        if test_stat and p_value close to 1 then data is normal\n",
    "    \"\"\"\n",
    "    from numpy.random import seed\n",
    "    from numpy.random import randn\n",
    "    from scipy.stats import normaltest\n",
    "    \n",
    "    \n",
    "    # seed the random number generator\n",
    "    seed(1)\n",
    "    \n",
    "    # generate univariate observations\n",
    "    data = 5 * randn(100) + 50\n",
    "    \n",
    "    # normality test\n",
    "    statistic, p_value = normaltest(data)\n",
    "    print('Statistic=%.3f, p_value=%.3f' % (statistic, p_value),'\\n')\n",
    "    \n",
    "    # interpret\n",
    "    \n",
    "    if p_value > 0.05:\n",
    "        print('Keep H0 hypothesis, Sample Looks Gaussian')\n",
    "    else:\n",
    "        print('H0 is rejected, Sample is not Gaussian')\n",
    "        \n",
    "        \n",
    "d_p_test(df.temperature)"
   ]
  },
  {
   "cell_type": "markdown",
   "metadata": {},
   "source": [
    "Summary of Results:\n",
    "\n",
    "    Hence, from both graphical and statistical trials we observed that the Temperature data shows Gaussian behavior so it appears to be normally distributed."
   ]
  },
  {
   "cell_type": "markdown",
   "metadata": {},
   "source": [
    "<div class=\"span5 alert alert-info\">\n",
    "**2-Is the sample size large? Are the observations independent?**\n",
    "</div>"
   ]
  },
  {
   "cell_type": "code",
   "execution_count": 10,
   "metadata": {},
   "outputs": [
    {
     "name": "stdout",
     "output_type": "stream",
     "text": [
      "Sample size bigger than 30 is considered large:  127 records.\n"
     ]
    }
   ],
   "source": [
    "print('Sample size bigger than 30 is considered large: ', df.drop_duplicates().shape[0] , 'records.')"
   ]
  },
  {
   "cell_type": "code",
   "execution_count": 11,
   "metadata": {
    "scrolled": true
   },
   "outputs": [
    {
     "name": "stdout",
     "output_type": "stream",
     "text": [
      "             temperature  heart_rate\n",
      "temperature     1.000000    0.253656\n",
      "heart_rate      0.253656    1.000000\n"
     ]
    },
    {
     "data": {
      "image/png": "[encoded data removed]",
      "text/plain": [
       "<Figure size 288x288 with 1 Axes>"
      ]
     },
     "metadata": {},
     "output_type": "display_data"
    }
   ],
   "source": [
    "# Let's look at the correlation matrix of two variables \n",
    "print(df.corr())\n",
    "plt.matshow(df.corr())\n",
    "plt.show()\n"
   ]
  },
  {
   "cell_type": "markdown",
   "metadata": {},
   "source": [
    "**Uncorrelatedness implies independence** Since the correlation metric close to 0', \n",
    "      'we expect no strong linearity between two variables."
   ]
  },
  {
   "cell_type": "markdown",
   "metadata": {},
   "source": [
    "<div class=\"span5 alert alert-info\">\n",
    "**3-Is the true population mean really 98.6 degrees F? **\n",
    "</div>"
   ]
  },
  {
   "cell_type": "markdown",
   "metadata": {},
   "source": [
    "**Start with Bootsrap Hypothesis Testing**"
   ]
  },
  {
   "cell_type": "code",
   "execution_count": 12,
   "metadata": {},
   "outputs": [],
   "source": [
    "# Bootstrap Hypothesis Test\n",
    "def replicate(data, function):\n",
    "    ''' Return replicate of a resampled data array'''\n",
    "    \n",
    "    # Create the resampled array and return the statistic of interest:\n",
    "    return function(np.random.choice(data, size=len(data)))\n",
    "\n",
    "\n",
    "def draw_replicates(data, function, size=1):\n",
    "    \"\"\"Draw bootstrap replicates.\"\"\"\n",
    "\n",
    "    # Initialize array of replicates:\n",
    "    replicates = np.empty(size)\n",
    "\n",
    "    # Generate replicates:\n",
    "    for i in range(size):\n",
    "        replicates[i] = replicate(data, function)\n",
    "    \n",
    "\n",
    "    return replicates"
   ]
  },
  {
   "cell_type": "code",
   "execution_count": 13,
   "metadata": {
    "scrolled": true
   },
   "outputs": [
    {
     "name": "stdout",
     "output_type": "stream",
     "text": [
      "p-value = 0.0\n"
     ]
    }
   ],
   "source": [
    "# Seed the random number generator:\n",
    "np.random.seed(15)\n",
    "\n",
    "\n",
    "# Make an array of translated temperatures:\n",
    "translated_temps = df.temperature - np.mean(df.temperature) + 98.6\n",
    "\n",
    "# Draw bootstrap replicates of translated temperatures:\n",
    "translated_replicates = draw_replicates(translated_temps, np.mean, 10000)\n",
    "\n",
    "# Compute fraction of replicates that are less than the observed temperature mean:\n",
    "p = np.sum(translated_replicates <= np.mean(df.temperature)) / len(translated_replicates)\n",
    "\n",
    "# Print the p-value:\n",
    "print('p-value =', p)"
   ]
  },
  {
   "cell_type": "markdown",
   "metadata": {},
   "source": [
    "The p_value is significantly less then 0.05, so the H0 can be rejected. Therefore, the TRUE MEAN body is not exactly 98.6 degrees of F."
   ]
  },
  {
   "cell_type": "markdown",
   "metadata": {},
   "source": [
    "** One Sample T Test**\n",
    "\n",
    "Test for one type of sample that is human body temperature. The population Standard Dev is unknown so T test will be used. Since the sample size is bigger than 30 results would be similar to Z test results. "
   ]
  },
  {
   "cell_type": "markdown",
   "metadata": {},
   "source": [
    "**t-test conditions**\n",
    "\n",
    "The data were collected in a random way, each observation must be independent of the others, and the sampling distribution must be normal or approximately normal\n",
    "\n",
    "**z-test conditions**\n",
    "\n",
    "The data were collected in a random way, each observation must be independent of the others, the sampling distribution must be normal or approximately normal, and the population standard deviation must be known"
   ]
  },
  {
   "cell_type": "markdown",
   "metadata": {},
   "source": [
    "**Conditions** before applying a T Test about a mean:\n",
    "- Random samples (Assuming the data collected from random samples)\n",
    "- Normaly Distributed Sample (See solution to problem 1)\n",
    "- Independence ( Either sampling with replacement or sample_size < .1*size_population)"
   ]
  },
  {
   "cell_type": "markdown",
   "metadata": {},
   "source": [
    "Hypothesis:\n",
    "\n",
    "H0 : The **True** population **mean** is 98.6 $^\\circ$F\n",
    "\n",
    "H1 : H0 is False"
   ]
  },
  {
   "cell_type": "code",
   "execution_count": 14,
   "metadata": {},
   "outputs": [
    {
     "name": "stdout",
     "output_type": "stream",
     "text": [
      " t statistic:  -5.454823292364079 \n",
      " p_value:  2.4106320415609943e-07\n"
     ]
    }
   ],
   "source": [
    "def t_test(data):\n",
    "    '''Calculate t-statistic and p_value using temperature samples'''\n",
    "    \n",
    "    # Sample mean\n",
    "    xbar = np.mean(data)\n",
    "    \n",
    "    # Population mean \n",
    "    mu0 = 98.6\n",
    "    \n",
    "    # Sample STD\n",
    "    s = np.std(data, ddof=1)\n",
    "    \n",
    "    # Sample Size\n",
    "    n = len(data)\n",
    "    \n",
    "    # T statistic for mean\n",
    "    t_obs = (xbar - mu0)/ (s/np.sqrt(n))\n",
    "    \n",
    "    # Calculate p_value\n",
    "    # two-sided pvalue = Prob(abs(t)>tvalues)\n",
    "    pval = stats.t.sf(np.abs(t_obs), n-1)*2  \n",
    "\n",
    "    return t_obs, pval\n",
    "\n",
    "# Function Call\n",
    "print(' t statistic: ' , t_test(df.temperature)[0],'\\n',\n",
    "      'p_value: ', t_test(df.temperature)[1] )"
   ]
  },
  {
   "cell_type": "code",
   "execution_count": 15,
   "metadata": {},
   "outputs": [
    {
     "name": "stdout",
     "output_type": "stream",
     "text": [
      "t_statistic:  -5.4548232923645195 \n",
      "p_value: 2.4106320415561276e-07\n"
     ]
    }
   ],
   "source": [
    "# Confirm the statistic and p_value with built-in one sample t-test method\n",
    "c_t, c_p = stats.ttest_1samp(df.temperature, popmean=98.6)\n",
    "print('t_statistic:  {t} \\np_value: {p}'.format(t=c_t, p=c_p))"
   ]
  },
  {
   "cell_type": "markdown",
   "metadata": {},
   "source": [
    "**T  statistic** tells us how much the sample mean deviates from the null hypothesis. If the t-statistic lies outside the quantiles of the t-distribution corresponding to our confidence level and degrees of freedom, we reject the null hypothesis. YES IT DOES LIE OUTSIDE as seen lines below:"
   ]
  },
  {
   "cell_type": "markdown",
   "metadata": {},
   "source": [
    "The p_value is the probability to observe a value t more than the observed one t_obs under the H0.\n",
    "\n",
    "    H0: P(t>t_obs|H0)"
   ]
  },
  {
   "cell_type": "code",
   "execution_count": 16,
   "metadata": {
    "scrolled": true
   },
   "outputs": [
    {
     "data": {
      "image/png": "[encoded data removed]",
      "text/plain": [
       "<Figure size 432x288 with 1 Axes>"
      ]
     },
     "metadata": {},
     "output_type": "display_data"
    },
    {
     "name": "stdout",
     "output_type": "stream",
     "text": [
      "We should have got a blue region near the right tail, but we do not see it because probablity is too low. In other words, it is almost not possible to get more exreme t_value than the observed one t_obs which lies out of the \n"
     ]
    }
   ],
   "source": [
    "# Visualizing p_value\n",
    "import scipy.stats as stats\n",
    "\n",
    "# Sample size\n",
    "n = len(df.temperature)\n",
    "\n",
    "# T statistic and possible t values\n",
    "t_obs = abs(t_test(df.temperature)[0])\n",
    "tvalues = np.linspace(-10,10,100)\n",
    "\n",
    "# Plot PDF for possible t-values\n",
    "plt.plot(tvalues, stats.t.pdf(tvalues, n-1), 'b-', label = 'T(n-1)')\n",
    "\n",
    "\n",
    "# Determine the area where t values are bigger than observed t-statistic\n",
    "upper_tval_tvalues = tvalues[tvalues > t_obs]\n",
    "plt.fill_between(upper_tval_tvalues,0, stats.t.pdf(upper_tval_tvalues, n-1), alpha=0.8,label='p_value')\n",
    "plt.legend()\n",
    "plt.show()\n",
    "\n",
    "print('We should have got a blue region near the right tail, but we do not see it because probablity is too low.', \n",
    "     'In other words, it is almost not possible to get more exreme t_value than the observed one t_obs',\n",
    "     'which lies out of the ')"
   ]
  },
  {
   "cell_type": "code",
   "execution_count": 17,
   "metadata": {},
   "outputs": [
    {
     "name": "stdout",
     "output_type": "stream",
     "text": [
      "The Confidence Interval for 95% C Level for all possible means : (98.12249318821641, 98.37596835024515)\n"
     ]
    }
   ],
   "source": [
    "# Find the Confidence Interval for the mean body temperature for 95 % Confidence Level \n",
    "# Critical Value for 95% (two tail) confidence level using percent point function from student's t in stats module\n",
    "# Sample size\n",
    "n = len(df.temperature)\n",
    "cv = stats.t.ppf(0.975,n-1)\n",
    "\n",
    "# Margin of Error at the 95% confidence level\n",
    "me = cv*(np.std(df.temperature)/ np.sqrt(n))\n",
    "\n",
    "# Find the confidence interval for the t-test at 95% confidence level\n",
    "c_intvl = (np.mean(df.temperature)- me, np.mean(df.temperature) + me)\n",
    "print('The Confidence Interval for 95% C Level for all possible means :' ,c_intvl)"
   ]
  },
  {
   "cell_type": "markdown",
   "metadata": {},
   "source": [
    "So the *TRUE MEAN* (population mean) would fall into the interval of \n",
    "\n",
    "\n",
    "$$(Sample\\_Mean - CV*SE , Sample\\_Mean + CV*SE)$$  where $$SE = \\frac{STD(Sample)}{\\sqrt{\\left(Sample\\_Size\\right)}}$$ and \n",
    "\n",
    "\n",
    "$$ CV = Critical Value$$\n",
    "\n",
    "\n",
    "\n",
    "\n",
    "Thereofre with the results,  we cannot say that the TRUE MEAN is 98.6 degrees F. Furthermore, we can reject the H0 hypothesis that the exact population mean temperature is 98.6 F as the p_value obtained above was far less    then 0.05 for the 95 % confidence level.\n"
   ]
  },
  {
   "cell_type": "code",
   "execution_count": 18,
   "metadata": {},
   "outputs": [
    {
     "name": "stdout",
     "output_type": "stream",
     "text": [
      "Mean of the sampling distribution of the mean:  98.25000800000001\n"
     ]
    },
    {
     "data": {
      "image/png": "[encoded data removed]",
      "text/plain": [
       "<Figure size 432x288 with 2 Axes>"
      ]
     },
     "metadata": {},
     "output_type": "display_data"
    }
   ],
   "source": [
    "# Now Let's look at sampling distribution of the sample means  \n",
    "sampling = np.empty(1000)\n",
    "for i in range(1000):\n",
    "    sampling[i] = df.temperature.sample(50, replace=True).mean()\n",
    "means_in_cint = [ x for x in sampling if (x < c_intvl[1] and x > c_intvl[0]) ]\n",
    "print('Mean of the sampling distribution of the mean: ',np.mean(sampling))\n",
    "\n",
    "# Plot Sampling Distribution and The Distribution of the means within Confidence Interval\n",
    "fig = plt.figure()\n",
    "ax1 = fig.add_subplot(1, 2, 1)\n",
    "ax2 = fig.add_subplot(1, 2, 2)\n",
    "\n",
    "ax1.hist(sampling)\n",
    "ax1.set_title('Sampling Dist. of Sample Means')\n",
    "ax1.set_xlabel('Body Temprerature')\n",
    "ax1.set_ylabel('Frequency')\n",
    "ax1.axvline(np.mean(sampling), c='r')\n",
    "\n",
    "ax2.hist(means_in_cint)\n",
    "ax2.set_title('Sampling Dist. of Sample Means within CI')\n",
    "ax2.set_xlabel('Body Temprerature')\n",
    "ax2.set_ylabel('Frequency')\n",
    "plt.subplots_adjust(bottom=0, right=2.0, top=1.0)\n",
    "plt.show()"
   ]
  },
  {
   "cell_type": "markdown",
   "metadata": {},
   "source": [
    "____"
   ]
  },
  {
   "cell_type": "markdown",
   "metadata": {},
   "source": [
    "** Z-Test **"
   ]
  },
  {
   "cell_type": "code",
   "execution_count": 19,
   "metadata": {},
   "outputs": [
    {
     "name": "stdout",
     "output_type": "stream",
     "text": [
      " z statistic:  -5.454823292364079 \n",
      " p_value:  4.90215701411338e-08\n"
     ]
    }
   ],
   "source": [
    "def z_test(data):\n",
    "    '''Calculate z-statistic and p_value using temperature samples'''\n",
    "    \n",
    "    # Sample mean\n",
    "    xbar = np.mean(data)\n",
    "    \n",
    "    # Population mean \n",
    "    mu0 = 98.6\n",
    "    \n",
    "    # Sample STD\n",
    "    s = np.std(data, ddof=1)\n",
    "    \n",
    "    # Sample Size\n",
    "    n = len(data)\n",
    "    \n",
    "    # T statistic for mean\n",
    "    z_obs = (xbar - mu0)/ (s/np.sqrt(n))\n",
    "    \n",
    "    # Calculate p_value\n",
    "    # two-sided pvalue = Prob(abs(t)>tvalues)\n",
    "    pval = stats.norm.sf(abs(z_obs))*2\n",
    "\n",
    "    return z_obs, pval\n",
    "\n",
    "# Function Call\n",
    "print(' z statistic: ' , z_test(df.temperature)[0],'\\n',\n",
    "      'p_value: ',z_test(df.temperature)[1] )\n"
   ]
  },
  {
   "cell_type": "code",
   "execution_count": 20,
   "metadata": {},
   "outputs": [
    {
     "name": "stdout",
     "output_type": "stream",
     "text": [
      "z-statistic = -5.4548232923645195 \n",
      "p-value = 4.9021570141012155e-08\n"
     ]
    }
   ],
   "source": [
    "# Verify z- test with z-test function from weightstats\n",
    "import statsmodels.stats.weightstats as wstats\n",
    "\n",
    "# Get the z statistic and p_value\n",
    "z, p_val = wstats.ztest(df.temperature, value=98.6, ddof=1.0)\n",
    "print('z-statistic = {z} \\np-value = {p}'.format(z=z,p=p_val))"
   ]
  },
  {
   "cell_type": "markdown",
   "metadata": {},
   "source": [
    "**Z-Test** supports that the Null hypothesis can be rejected."
   ]
  },
  {
   "cell_type": "markdown",
   "metadata": {},
   "source": [
    "<div class=\"span5 alert alert-info\">\n",
    "<ul>\n",
    "**4-Draw a small sample of size 10 from the data and repeat both frequentist tests.**\n",
    "\n",
    "<li>Which one is the correct one to use?\n",
    "\n",
    "<li>What do you notice? What does this tell you about the difference in application of the $t$ and $z$ statistic?\n",
    "\n",
    "</ul>\n",
    "</div>\n"
   ]
  },
  {
   "cell_type": "code",
   "execution_count": 21,
   "metadata": {},
   "outputs": [],
   "source": [
    "# Now Let's look at sampling distribution of the sample means  \n",
    "tens = df.temperature.sample(10,replace=True)"
   ]
  },
  {
   "cell_type": "code",
   "execution_count": 22,
   "metadata": {},
   "outputs": [
    {
     "data": {
      "text/plain": [
       "(array([1., 0., 0., 0., 1., 0., 3., 2., 1., 2.]),\n",
       " array([96.3 , 96.55, 96.8 , 97.05, 97.3 , 97.55, 97.8 , 98.05, 98.3 ,\n",
       "        98.55, 98.8 ]),\n",
       " <a list of 10 Patch objects>)"
      ]
     },
     "execution_count": 22,
     "metadata": {},
     "output_type": "execute_result"
    },
    {
     "data": {
      "image/png": "[encoded data removed]",
      "text/plain": [
       "<Figure size 432x288 with 1 Axes>"
      ]
     },
     "metadata": {},
     "output_type": "display_data"
    }
   ],
   "source": [
    "plt.hist(tens)"
   ]
  },
  {
   "cell_type": "code",
   "execution_count": 23,
   "metadata": {},
   "outputs": [
    {
     "name": "stdout",
     "output_type": "stream",
     "text": [
      "t-statistic = -2.7333952307624303 \n",
      "p-value = 0.02309584980628976\n"
     ]
    }
   ],
   "source": [
    "# T-Test for 10 samples\n",
    "t, p_val_t = stats.ttest_1samp(a=tens, popmean=98.6)\n",
    "print('t-statistic = {t} \\np-value = {p}'.format(t=t,p=p_val_t))"
   ]
  },
  {
   "cell_type": "code",
   "execution_count": 24,
   "metadata": {},
   "outputs": [
    {
     "name": "stdout",
     "output_type": "stream",
     "text": [
      "z-statistic = -2.7333952307624303 \n",
      "p-value = 4.9021570141012155e-08\n"
     ]
    }
   ],
   "source": [
    "# Z-Test for 10 samples \n",
    "import statsmodels.stats.weightstats as wstats\n",
    "\n",
    "# Get the z statistic and p_value\n",
    "z, p_val_z = wstats.ztest(tens, value=98.6, ddof=1.0)\n",
    "print('z-statistic = {z} \\np-value = {p}'.format(z=z,p=p_val))"
   ]
  },
  {
   "cell_type": "markdown",
   "metadata": {},
   "source": [
    "First note that the sample is not met with Normality condition to apply either Z or T tests. So assume that it is normally distributed."
   ]
  },
  {
   "cell_type": "markdown",
   "metadata": {},
   "source": [
    "The correct test to use in the case of random sample of size=10 is a T -test. However, the statistics from both tests are the same implying the measure of spread for sample mean from given population mean of 98.6\n",
    "\n"
   ]
  },
  {
   "cell_type": "markdown",
   "metadata": {},
   "source": [
    "With confidence level of 95 % for the same samples, we have enough evidence to reject Null Hyp. with the result from T-Test but not with the Z Test. \n",
    "\n",
    "Probability of getting a t-value at least as extreme as observed t_obs\n",
    "$$P(t >t\\_obs | H0) \\approx 0.3 \\%  $$\n",
    "\n",
    "Probability of getting a z-value at least as extreme as observed z_obs\n",
    "$$P(z >z\\_obs | H0) \\approx 11 \\%  $$"
   ]
  },
  {
   "cell_type": "markdown",
   "metadata": {},
   "source": [
    "p only indicates the likelihood of obtaining a certain value for the test statistic if the null hypothesis is true—nothing else. A value of p < 0:05 for the null hypothesis has to be interpreted as follows: If the null hypothesis is true, the chance to find a test statistic as extreme as or more extreme than the one observed is less than 5 %. This is not the same as saying that the null hypothesis is false, and even less so, that an alternative hypothesis is true!"
   ]
  },
  {
   "cell_type": "markdown",
   "metadata": {},
   "source": [
    "<div class=\"span5 alert alert-info\">\n",
    "**5- At what temperature should we consider someone's temperature to be \"abnormal\"?**\n",
    "    <ul>\n",
    "    <li> As in the previous example, try calculating everything using the boostrap approach, as well as the frequentist approach.\n",
    "    <li> Start by computing the margin of error and confidence interval. When calculating the confidence interval, keep in mind that you should use the appropriate formula for one draw, and not N draws.\n",
    "        \n",
    "</ul>       \n",
    "</div>"
   ]
  },
  {
   "cell_type": "markdown",
   "metadata": {},
   "source": [
    "**Bootstrap Approach**"
   ]
  },
  {
   "cell_type": "code",
   "execution_count": 25,
   "metadata": {},
   "outputs": [],
   "source": [
    "def replicate(data, function):\n",
    "    ''' Return replicate of a resampled data array'''\n",
    "    \n",
    "    # Create the resampled array and return the statistic of interest:\n",
    "    return function(np.random.choice(data, size=len(data)))\n",
    "\n",
    "\n",
    "def draw_replicates(data, function, size=1):\n",
    "    \"\"\"Draw bootstrap replicates.\"\"\"\n",
    "\n",
    "    # Initialize array of replicates:\n",
    "    replicates = np.empty(size)\n",
    "\n",
    "    # Generate replicates:\n",
    "    for i in range(size):\n",
    "        replicates[i] = replicate(data, function)\n",
    "    \n",
    "\n",
    "    return replicates"
   ]
  },
  {
   "cell_type": "code",
   "execution_count": 26,
   "metadata": {},
   "outputs": [
    {
     "data": {
      "text/plain": [
       "(98.24845126388473, 98.25099304380757)"
      ]
     },
     "execution_count": 26,
     "metadata": {},
     "output_type": "execute_result"
    }
   ],
   "source": [
    "# Compute the confidence interval\n",
    "replicates = draw_replicates(np.array(df.temperature), np.mean, 10000)\n",
    "\n",
    "# Standard Error\n",
    "x1= replicates\n",
    "SE_rep = stats.sem(x1) \n",
    "\n",
    "# t-critical at 95% confidence Level with 129 degrees of freedom\n",
    "t_c_rep = stats.t.ppf(0.975, df=len(x1)-1) \n",
    "\n",
    "# Margin of Error\n",
    "moe_rep = t_c_rep * SE_rep\n",
    "\n",
    "# Confidence Interval\n",
    "CI_rep = x1.mean() - moe_rep , x1.mean() + moe_rep\n",
    "CI_rep"
   ]
  },
  {
   "cell_type": "markdown",
   "metadata": {},
   "source": [
    "We could say that the values out of the above range is abnormal temperature values."
   ]
  },
  {
   "cell_type": "markdown",
   "metadata": {},
   "source": [
    "**Frequentist Approach**"
   ]
  },
  {
   "cell_type": "markdown",
   "metadata": {},
   "source": [
    "*Tail Prob Calculator for T - Test*"
   ]
  },
  {
   "cell_type": "code",
   "execution_count": 27,
   "metadata": {},
   "outputs": [
    {
     "name": "stdout",
     "output_type": "stream",
     "text": [
      "The critical value: 1.6972608943617378\n",
      "The Area under the curve up to cut off point: 0.9500000007419639\n"
     ]
    }
   ],
   "source": [
    "# One tail 95% Confidence Level\n",
    "alpha = .05\n",
    "p = 1-alpha\n",
    "\n",
    "# get the value <= probability\n",
    "critical_v = stats.t.ppf(p, df=30)\n",
    "#print(critical_v)\n",
    "\n",
    "# confirm the area with cdf\n",
    "pp = stats.t.cdf(critical_v, df=30)\n",
    "print('The critical value: {cv}\\nThe Area under the curve up to cut off point: {area}'.format(cv=critical_v,\n",
    "                                                                                             area=pp))"
   ]
  },
  {
   "cell_type": "code",
   "execution_count": 28,
   "metadata": {},
   "outputs": [
    {
     "name": "stdout",
     "output_type": "stream",
     "text": [
      "The critical value: 2.0422724563012373\n",
      "The Area under the curve up to cut off point: 0.9749999999999999\n"
     ]
    }
   ],
   "source": [
    "# Two Tail 95% Confidence Level\n",
    "alpha = .05/2\n",
    "p = 1-alpha\n",
    "\n",
    "# get the value <= probability\n",
    "critical_v = stats.t.ppf(p, df=30)\n",
    "#print(critical_v)\n",
    "\n",
    "# confirm the area with cdf\n",
    "pp = stats.t.cdf(critical_v, df=30)\n",
    "print('The critical value: {cv}\\nThe Area under the curve up to cut off point: {area}'.format(cv=critical_v,\n",
    "                                                                                             area=pp))"
   ]
  },
  {
   "cell_type": "markdown",
   "metadata": {},
   "source": [
    "*Tail Prob Calculator for Z (Normal Dist.) - Test*"
   ]
  },
  {
   "cell_type": "code",
   "execution_count": 29,
   "metadata": {},
   "outputs": [],
   "source": [
    "# here"
   ]
  },
  {
   "cell_type": "code",
   "execution_count": 30,
   "metadata": {},
   "outputs": [
    {
     "data": {
      "text/plain": [
       "(98.12200290560804, 98.37645863285351)"
      ]
     },
     "execution_count": 30,
     "metadata": {},
     "output_type": "execute_result"
    }
   ],
   "source": [
    "import scipy.stats as stats\n",
    "\n",
    "#Standard Error\n",
    "x = df.temperature\n",
    "\n",
    "# Sample Size\n",
    "# ddof = 1 is default -- Delta Degrees of Freedom\n",
    "n = len(x)\n",
    "SE = stats.sem(x, ddof = 1) \n",
    "#SE = (x.std()/np.sqrt(len(x)))\n",
    "\n",
    "# t-critical at 95% confidence Level with 129 degrees of freedom\n",
    "t_c = stats.t.ppf(0.975, df=n-1) \n",
    "\n",
    "# Margin of Error\n",
    "moe = t_c * SE\n",
    "\n",
    "# Confidence Interval\n",
    "CI = x.mean() - moe , x.mean() + moe\n",
    "CI"
   ]
  },
  {
   "cell_type": "code",
   "execution_count": 31,
   "metadata": {},
   "outputs": [
    {
     "name": "stdout",
     "output_type": "stream",
     "text": [
      "95% confidence interval: (96.59287726787744, 99.90558427058413)\n"
     ]
    }
   ],
   "source": [
    "# calculate 95% confidence interval (two tail)\n",
    "conf_int = stats.t.interval(alpha=0.975, df=n-1, loc=np.mean(df['temperature']), scale=np.std(df['temperature']))\n",
    "\n",
    "print('95% confidence interval:',conf_int)"
   ]
  },
  {
   "cell_type": "markdown",
   "metadata": {},
   "source": [
    "The Confidence Interval remains the similar at the 95% Confidence Level, only the first one is narrower. So we consider temperatures lie out the ranges above as Abnormal Body Temperatures. However, the mean normal body temperature was held to be 37$^{\\circ}$C or 98.6$^{\\circ}$F for more than 120 years. \n",
    "\n",
    "Is something wrong!?\n",
    "Looks like 98.6$^{\\circ}$F is an abnormal body temperature for humans! \n",
    "\n",
    "Only we get wider range that contains the asserted  98.6$^{\\circ}$F interval if used built-in confidence interval function from scipy stats"
   ]
  },
  {
   "cell_type": "markdown",
   "metadata": {},
   "source": [
    "<div class=\"span5 alert alert-info\">\n",
    "** 6- Is there a significant difference between males and females in normal temperature?**\n",
    "    <ul>\n",
    "    <li> What testing approach did you use and why?\n",
    "    <li> Write a story with your conclusion in the context of the original problem.\n",
    "    </ul>\n",
    "</div>"
   ]
  },
  {
   "cell_type": "code",
   "execution_count": 32,
   "metadata": {},
   "outputs": [
    {
     "data": {
      "image/png": "[encoded data removed]",
      "text/plain": [
       "<Figure size 576x576 with 1 Axes>"
      ]
     },
     "metadata": {},
     "output_type": "display_data"
    }
   ],
   "source": [
    "import seaborn as sns\n",
    "plt.figure(figsize = (8,8))\n",
    "_ = sns.swarmplot(x= 'gender', y = 'temperature',hue='gender' ,data = df)\n",
    "_ = sns.boxplot(x=\"gender\", y=\"temperature\", data=df, boxprops={'facecolor':'None'})\n",
    "_ = plt.xlabel('')\n",
    "_ = plt.ylabel('Body Temperature ($^\\circ$F)', fontsize=14)\n",
    "_ = plt.title ('Gender & Body Temperature Swarm&Box Plot', fontsize=14)\n",
    "plt.show()"
   ]
  },
  {
   "cell_type": "markdown",
   "metadata": {},
   "source": [
    "Two Sample T - Test will be used to analyze two independent samples from two separate groups. Here is the Null hypothesis is \n",
    "\n",
    "H0 : Two samples do have the same mean or The difference between two population means is 0.\n",
    "\n",
    "The test measures whether the average (expected) value differs significantly across samples. If we observe a large p-value, for example larger than 0.05 or 0.1, then we cannot reject the null hypothesis of identical average scores. If the p-value is smaller than the threshold, e.g. 1%, 5% or 10%, then we reject the null hypothesis of equal averages. [source](https://docs.scipy.org/doc/scipy/reference/generated/scipy.stats.ttest_ind.html)"
   ]
  },
  {
   "cell_type": "code",
   "execution_count": 33,
   "metadata": {},
   "outputs": [
    {
     "data": {
      "text/html": [
       "<div>\n",
       "<style scoped>\n",
       "    .dataframe tbody tr th:only-of-type {\n",
       "        vertical-align: middle;\n",
       "    }\n",
       "\n",
       "    .dataframe tbody tr th {\n",
       "        vertical-align: top;\n",
       "    }\n",
       "\n",
       "    .dataframe thead th {\n",
       "        text-align: right;\n",
       "    }\n",
       "</style>\n",
       "<table border=\"1\" class=\"dataframe\">\n",
       "  <thead>\n",
       "    <tr style=\"text-align: right;\">\n",
       "      <th></th>\n",
       "      <th>key_0</th>\n",
       "      <th>temperature_x</th>\n",
       "      <th>heart_rate_x</th>\n",
       "      <th>temperature_y</th>\n",
       "      <th>heart_rate_y</th>\n",
       "    </tr>\n",
       "  </thead>\n",
       "  <tbody>\n",
       "    <tr>\n",
       "      <th>0</th>\n",
       "      <td>count</td>\n",
       "      <td>65.000000</td>\n",
       "      <td>65.000000</td>\n",
       "      <td>65.000000</td>\n",
       "      <td>65.000000</td>\n",
       "    </tr>\n",
       "    <tr>\n",
       "      <th>1</th>\n",
       "      <td>mean</td>\n",
       "      <td>98.104615</td>\n",
       "      <td>73.369231</td>\n",
       "      <td>98.393846</td>\n",
       "      <td>74.153846</td>\n",
       "    </tr>\n",
       "    <tr>\n",
       "      <th>2</th>\n",
       "      <td>std</td>\n",
       "      <td>0.698756</td>\n",
       "      <td>5.875184</td>\n",
       "      <td>0.743488</td>\n",
       "      <td>8.105227</td>\n",
       "    </tr>\n",
       "    <tr>\n",
       "      <th>3</th>\n",
       "      <td>min</td>\n",
       "      <td>96.300000</td>\n",
       "      <td>58.000000</td>\n",
       "      <td>96.400000</td>\n",
       "      <td>57.000000</td>\n",
       "    </tr>\n",
       "    <tr>\n",
       "      <th>4</th>\n",
       "      <td>25%</td>\n",
       "      <td>97.600000</td>\n",
       "      <td>70.000000</td>\n",
       "      <td>98.000000</td>\n",
       "      <td>68.000000</td>\n",
       "    </tr>\n",
       "    <tr>\n",
       "      <th>5</th>\n",
       "      <td>50%</td>\n",
       "      <td>98.100000</td>\n",
       "      <td>73.000000</td>\n",
       "      <td>98.400000</td>\n",
       "      <td>76.000000</td>\n",
       "    </tr>\n",
       "    <tr>\n",
       "      <th>6</th>\n",
       "      <td>75%</td>\n",
       "      <td>98.600000</td>\n",
       "      <td>78.000000</td>\n",
       "      <td>98.800000</td>\n",
       "      <td>80.000000</td>\n",
       "    </tr>\n",
       "    <tr>\n",
       "      <th>7</th>\n",
       "      <td>max</td>\n",
       "      <td>99.500000</td>\n",
       "      <td>86.000000</td>\n",
       "      <td>100.800000</td>\n",
       "      <td>89.000000</td>\n",
       "    </tr>\n",
       "  </tbody>\n",
       "</table>\n",
       "</div>"
      ],
      "text/plain": [
       "   key_0  temperature_x  heart_rate_x  temperature_y  heart_rate_y\n",
       "0  count      65.000000     65.000000      65.000000     65.000000\n",
       "1   mean      98.104615     73.369231      98.393846     74.153846\n",
       "2    std       0.698756      5.875184       0.743488      8.105227\n",
       "3    min      96.300000     58.000000      96.400000     57.000000\n",
       "4    25%      97.600000     70.000000      98.000000     68.000000\n",
       "5    50%      98.100000     73.000000      98.400000     76.000000\n",
       "6    75%      98.600000     78.000000      98.800000     80.000000\n",
       "7    max      99.500000     86.000000     100.800000     89.000000"
      ]
     },
     "execution_count": 33,
     "metadata": {},
     "output_type": "execute_result"
    }
   ],
   "source": [
    "# Statistics by Gender\n",
    "male_stats = df[df.gender=='M'].describe()\n",
    "female_stats = df[df.gender=='F'].describe()\n",
    "pd.merge(male_stats, female_stats, how='outer', left_on=male_stats.index, right_on=female_stats.index )"
   ]
  },
  {
   "cell_type": "code",
   "execution_count": 34,
   "metadata": {},
   "outputs": [
    {
     "name": "stdout",
     "output_type": "stream",
     "text": [
      "t-statistic = -2.2854345381656103 \n",
      "p-value = 0.02393188312239561\n"
     ]
    }
   ],
   "source": [
    "rv_m = df[df.gender=='M'].temperature\n",
    "rv_f = df[df.gender=='F'].temperature\n",
    "t_statistic_, p_value_ = stats.ttest_ind(rv_m, rv_f, equal_var=True)\n",
    "print('t-statistic = {t} \\np-value = {p}'.format(t=t_statistic_,p=p_value_))"
   ]
  },
  {
   "cell_type": "markdown",
   "metadata": {},
   "source": [
    "Results suggest that there is a difference between the two means, as deviation is  not 0. The summary statisctics table above also shows that there is a small differencen in the mean values of two groups.\n",
    "\n",
    "Morever, p value of 2.4% \n",
    "is slightly less than 5% so we can reject the null hypothesis."
   ]
  },
  {
   "cell_type": "markdown",
   "metadata": {},
   "source": [
    "<div class=\"span5 alert alert-info\">\n",
    "**Conclusion**\n",
    "</div>"
   ]
  },
  {
   "cell_type": "markdown",
   "metadata": {},
   "source": [
    "- The distribution characteristics of the data is very important for the inferential statistics. Many statistical models assume data normally distributed and from there provide us the appropriate statitical tests. \n",
    "- Statistical tests are used to check the difference between our expectation and the facts about our data. For that data must be randomly selected, and that ideally individual events should be independent of each other to get accurate results from statistical tests.\n",
    "- We see that t-test is good for sample size less than 30 and it approaches to normal distribution as the sample size increases. Having smaller samples affects the accuracy of the analysis, so does have an impact on the inference."
   ]
  },
  {
   "cell_type": "markdown",
   "metadata": {},
   "source": [
    "<div class=\"span5 alert alert-info\">\n",
    "**What is the True Mean Value Of Human Body Temp.**\n",
    "</div>"
   ]
  },
  {
   "cell_type": "markdown",
   "metadata": {},
   "source": [
    "- Statistical tests for our sample, which is normally distributed with the mean of $98.2^{\\circ}F$, suggest that the actual mean value is different than the conventional value of $98.6^{\\circ}F$. Our results demonstrated that with 95% Confidence Level the all possible means from sampling distribution of the sample means should fall into the confidence interval of $$[98.12^{\\circ}F, 98.37^{\\circ}F]$$\n",
    "\n",
    "\n",
    "- We observed that the mean value of body temperature differs slightly. We do not know if the gender has an effect on the result nor the cause of that differentiation. \n",
    "- It might be heart rates, the region people selected from,  the diet habbits or might be something else that we do not have the data about.  "
   ]
  },
  {
   "cell_type": "code",
   "execution_count": 36,
   "metadata": {},
   "outputs": [
    {
     "name": "stderr",
     "output_type": "stream",
     "text": [
      "/anaconda3/lib/python3.5/site-packages/matplotlib/axes/_axes.py:6462: UserWarning: The 'normed' kwarg is deprecated, and has been replaced by the 'density' kwarg.\n",
      "  warnings.warn(\"The 'normed' kwarg is deprecated, and has been \"\n"
     ]
    },
    {
     "data": {
      "image/png": "[encoded data removed]",
      "text/plain": [
       "<Figure size 576x720 with 2 Axes>"
      ]
     },
     "metadata": {},
     "output_type": "display_data"
    }
   ],
   "source": [
    "import seaborn as sns\n",
    "\n",
    "\n",
    "# CI : Confidence Interval from Question 5 for 95% Confidence Level Accuracy\n",
    "\n",
    "# Create a figure with two plots:\n",
    "fig, (boxplot, histogram) = plt.subplots(2, sharex=True, gridspec_kw={\"height_ratios\": (.15, .85)})\n",
    "fig.set_size_inches(8,10)\n",
    "# Add boxplot for temperature:\n",
    "sns.boxplot(df.temperature, ax=boxplot)\n",
    "\n",
    "# Add histogram for temperature:\n",
    "sns.distplot(df.temperature, ax=histogram)\n",
    "\n",
    "# Increase tick mark font size, label axes and add title:\n",
    "plt.tick_params(axis='x', which='major', labelsize=14)\n",
    "plt.xlabel('Temperature ($^\\circ$F)', fontsize=14)\n",
    "plt.ylabel('PDF')\n",
    "plt.title('Distribution of Temperatures', fontsize=18)\n",
    "\n",
    "# Add text and lines marking the 99.9% confidence interval:\n",
    "plt.text(x=CI[0]-0.65, y=0.2, s='95% CI')\n",
    "plt.vlines(ymin=0, ymax=0.2, x=CI[0])\n",
    "plt.text(x=CI[1]-0.1, y=0.2, s='95% CI')\n",
    "plt.vlines(ymin=0, ymax=0.2, x=CI[1])\n",
    "\n",
    "# Add a lines for different means:\n",
    "sample_mean = df.temperature.mean()\n",
    "plt.text(x=sample_mean-0.15, y=0.6, s='$\\overline{x}$')\n",
    "plt.vlines(ymin=0, ymax=0.6, x=sample_mean, color='red')\n",
    "plt.text(x=98.6, y=0.6, s='Popmean = 98.6$^\\circ$F')\n",
    "plt.vlines(ymin=0, ymax=0.6, x=98.6, color='green')\n",
    "\n",
    "# Add text and lines marking the 95% prediction interval:\n",
    "sample_std = df.temperature.std()\n",
    "plt.text(x=(sample_mean-2*sample_std), y=0.2, s='2.5%')\n",
    "plt.vlines(ymin=0, ymax=0.2, x=(sample_mean-2*sample_std))\n",
    "plt.text(x=(sample_mean+2*sample_std), y=0.2, s='97.5%')\n",
    "plt.vlines(ymin=0, ymax=0.2, x=(sample_mean+2*sample_std))\n",
    "\n",
    "# Remove x-axis label for the boxplot:\n",
    "boxplot.set(xlabel='')\n",
    "\n",
    "# Save and display the plots:\n",
    "plt.savefig('description.png')\n",
    "\n",
    "# these are matplotlib.patch.Patch properties\n",
    "props = dict(boxstyle='round', facecolor='wheat', alpha=0.5)\n",
    "\n",
    "\n",
    "# place a text box in upper left in axes coords\n",
    "textstr = 'Thanks to Cherly for helping me with this graph'\n",
    "plt.text(0.01, 0.95, textstr, transform=histogram.transAxes, fontsize=8,\n",
    "        verticalalignment='top', bbox=props)\n",
    "\n",
    "plt.show()"
   ]
  },
  {
   "cell_type": "markdown",
   "metadata": {},
   "source": [
    "<div class=\"span5 alert alert-info\">\n",
    "</div>"
   ]
  }
 ],
 "metadata": {
  "kernelspec": {
   "display_name": "Python 3",
   "language": "python",
   "name": "python3"
  },
  "language_info": {
   "codemirror_mode": {
    "name": "ipython",
    "version": 3
   },
   "file_extension": ".py",
   "mimetype": "text/x-python",
   "name": "python",
   "nbconvert_exporter": "python",
   "pygments_lexer": "ipython3",
   "version": "3.5.5"
  }
 },
 "nbformat": 4,
 "nbformat_minor": 1
}
